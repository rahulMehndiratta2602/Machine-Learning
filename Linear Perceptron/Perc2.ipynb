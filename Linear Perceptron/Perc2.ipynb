{
 "cells": [
  {
   "cell_type": "code",
   "execution_count": 1,
   "id": "caring-prayer",
   "metadata": {},
   "outputs": [],
   "source": [
    "import numpy as np\n",
    "import pandas as pd\n",
    "\n",
    "# Reading the data\n",
    "myData = pd.read_csv(\"dataset_LP_2.csv\")\n",
    "FirstRow = []\n",
    "for i in myData.columns:\n",
    "    FirstRow.append(float(i))\n",
    "    \n",
    "myData.columns = ['first_feature','sec_feature','third_feature','labels']\n",
    "fRow = pd.DataFrame([FirstRow], columns = myData.columns, index = [len(myData)])\n",
    "myData = pd.concat([myData,fRow])\n",
    "X = myData.iloc[:, :-1].values\n",
    "y = myData.iloc[:, -1].values"
   ]
  },
  {
   "cell_type": "code",
   "execution_count": 2,
   "id": "aboriginal-object",
   "metadata": {},
   "outputs": [],
   "source": [
    "# Splitting the dataset into training data and testing data\n",
    "splitData = int(0.7*len(X))\n",
    "train_X, test_X, train_y, test_y = X[:splitData], X[splitData:], y[:splitData], y[splitData:]"
   ]
  },
  {
   "cell_type": "code",
   "execution_count": 3,
   "id": "recent-resort",
   "metadata": {},
   "outputs": [],
   "source": [
    "class Perc:\n",
    "    def __init__ (self):\n",
    "        self.w = None\n",
    "        self.b = None\n",
    "    \n",
    "   #model  \n",
    "    def model(self, x):\n",
    "        dot_product = np.dot(self.w, x) \n",
    "        if (dot_product + self.b>= 0):\n",
    "            return 1\n",
    "        else:\n",
    "            return 0\n",
    "  \n",
    "   #predictor to predict on the data based on w\n",
    "    def predict(self,X):\n",
    "        Y = []\n",
    "        for x in X:\n",
    "            result = self.model(x)\n",
    "            Y.append(result)\n",
    "        return np.array(Y)\n",
    "   #finding the weights based on the training data\n",
    "    def fit(self, X, Y, iters = 500, lr = 1):\n",
    "        self.w = np.ones(X.shape[1])\n",
    "        self.b = 0\n",
    "        for i in range(iters):\n",
    "            pred = self.predict(X)\n",
    "            accuracy = np.sum(pred == Y)/len(Y)\n",
    "            if accuracy == 1:\n",
    "                print(\"Since the model has converged, the data is linearly separable.\")\n",
    "                break\n",
    "        \n",
    "            for x, y in zip(X, Y):\n",
    "                y_pred = self.model(x)\n",
    "                \n",
    "                if y == 1 and y_pred == 0:\n",
    "                    self.w = self.w + lr * x\n",
    "                    self.b = self.b + lr * 1\n",
    "                elif y == 0 and y_pred == 1:\n",
    "                    self.w = self.w - lr * x\n",
    "                    self.b = self.b - lr * 1\n",
    "                    \n",
    "   #determining the accuracy of the model\n",
    "    def accuracy(self, pred_test_y, test_y):\n",
    "        accuracy = np.sum(pred_test_y == test_y)*100 / len(test_y)\n",
    "        return accuracy                 \n",
    "                    \n",
    "     "
   ]
  },
  {
   "cell_type": "code",
   "execution_count": 4,
   "id": "wound-adobe",
   "metadata": {},
   "outputs": [
    {
     "name": "stdout",
     "output_type": "stream",
     "text": [
      "Since the model has converged, the data is linearly separable.\n",
      "Accuracy for the testing data sample: 99.66666666666667\n"
     ]
    }
   ],
   "source": [
    "perceptron = Perc()\n",
    " \n",
    "perceptron.fit(train_X, train_y, 500, 1)\n",
    "\n",
    " \n",
    " #making predictions on test data\n",
    "pred_test_y = perceptron.predict(test_X)\n",
    " \n",
    " #printing the accuracy of the model\n",
    "print(\"Accuracy for the testing data sample: \", end = '')\n",
    "print(perceptron.accuracy(pred_test_y, test_y))"
   ]
  },
  {
   "cell_type": "code",
   "execution_count": null,
   "id": "confidential-cedar",
   "metadata": {},
   "outputs": [],
   "source": []
  }
 ],
 "metadata": {
  "kernelspec": {
   "display_name": "Python 3",
   "language": "python",
   "name": "python3"
  },
  "language_info": {
   "codemirror_mode": {
    "name": "ipython",
    "version": 3
   },
   "file_extension": ".py",
   "mimetype": "text/x-python",
   "name": "python",
   "nbconvert_exporter": "python",
   "pygments_lexer": "ipython3",
   "version": "3.9.1"
  }
 },
 "nbformat": 4,
 "nbformat_minor": 5
}
